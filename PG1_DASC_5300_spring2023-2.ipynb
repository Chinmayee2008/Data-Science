{
  "nbformat": 4,
  "nbformat_minor": 0,
  "metadata": {
    "colab": {
      "provenance": []
    },
    "kernelspec": {
      "name": "python3",
      "display_name": "Python 3"
    },
    "language_info": {
      "name": "python"
    }
  },
  "cells": [
    {
      "cell_type": "markdown",
      "metadata": {
        "id": "IomjkHgqwz2H"
      },
      "source": [
        "# DASC 5300, spring 2023, University of Texas at Arlington\n",
        "# Programming Assignment 1\n",
        "\n",
        "\n",
        "## **Academic Honesty**\n",
        "This assignment must be done individually and independently. You must implement the whole assignment by yourself. Academic dishonesty is not tolerated.\n",
        "\n",
        "## **Requirements**\n",
        "\n",
        "1.   When you work on this assignment, you should make a copy of this notebook in Google Colab. This can be done using the option `File > Save a copy in Drive` in Google Colab. \n",
        "2.   You should fill in your answer for each task inside the code block right under the task. \n",
        "3.   You should only insert your code into the designated code blocks, as mentioned above. Other than that, you shouldn't change anything else in the notebook.\n",
        "\n",
        "5.  Most of the tasks can be solved with 1 line of code. But you are allowed to use up to 3 lines of code for any task (except Task 10 for which your answer can be longer). \n",
        "6.   You may not use any other imports to solve the tasks. In other words, you shouldn't use `import` in any designated code blocks for the tasks.\n",
        "7.   You should not use any loops, if statement, or list/dictionary comprehensions, except for Task 10. You can solve all the tasks by only using features and functions from pandas you can get help from this link (https://colab.research.google.com/drive/1MvwenCCfMAUL6ZNzh_BlK_JVG3qdUIzr?usp=sharing)\n",
        "8.   Even if you can only partially solve a task, you should include your code in the code block, which allows us to consider partial credit. \n",
        "9.   However, your code should not raise errors. Any code raising errors will not get partial credit. \n",
        "10.   vehicule_share.csv,task5.pkl and task9.pkl are the files that  will be used in the assigment1 and their link is in DataSet in modules section in canvas.https://drive.google.com/drive/folders/1hnymJoBCzZdP_B-x4ISb7z4I4BMS2s8T?usp=sharing)\n",
        "11.   To submit your assignment, download your Colab into a .ipynb file. This can be done using the option `Download > Download .ipynb` in Google Colab.\n",
        "12.   Submit the downloaded .ipynb file/ .zip into the Programming Assignment 1  entry in Canvas.\n"
      ]
    },
    {
      "cell_type": "markdown",
      "metadata": {
        "id": "VE5MRfJg33ZR"
      },
      "source": [
        "## **Dataset**"
      ]
    },
    {
      "cell_type": "markdown",
      "metadata": {
        "id": "9GS0NxL6zpr4"
      },
      "source": [
        "In this assignment, we will do data munging and analysis on a dataset about vehicle sharing. You can run the following code to download the dataset and load it into a `DataFrame` `trips`."
      ]
    },
    {
      "cell_type": "markdown",
      "source": [
        "This dataset is generated from a vehicle sharing service. Every row represents a trip and has the following columns: \n",
        "- *Start Time* - The time when the trip started\n",
        "- *End Time* - The time when the trip ended\n",
        "- *Trip Duration* - Total time duration (in seconds) of the trip\n",
        "- *Start Station* - Name of the trip's start station\n",
        "- *End Station* - Name of the trip's end station\n",
        "- *User Type* -  Type of the user. **Subscriber** refers to the users that subscribed to the service; **Customer** refers the users who take rides without any subscription. \n",
        "- *Birth Year* - The birth year of the user"
      ],
      "metadata": {
        "id": "0o13r5YzqC68"
      }
    },
    {
      "cell_type": "code",
      "metadata": {
        "id": "V086f30K-dE7"
      },
      "source": [
        "# special IPython command to prepare the notebook for matplotlib\n",
        "%matplotlib inline \n",
        "\n",
        "#Array processing\n",
        "import numpy as np\n",
        "#Data analysis, wrangling and common exploratory operations\n",
        "import pandas as pd\n",
        "\n",
        "from itertools import chain\n",
        "\n",
        "#For visualization. Matplotlib for basic visualization and seaborn for more stylish figures\n",
        "import matplotlib.pyplot as plt\n",
        "import seaborn as sns\n",
        "\n",
        "\n"
      ],
      "execution_count": 3,
      "outputs": []
    },
    {
      "cell_type": "code",
      "source": [
        "#load the file  vehicle_share.csv into a dataframe trips\n",
        "a = pd.read_csv('vehicle_share.csv')\n",
        "#return the first 5 rows of the dataset\n",
        "a.head()"
      ],
      "metadata": {
        "id": "hE2FrHxeG9em",
        "colab": {
          "base_uri": "https://localhost:8080/",
          "height": 350
        },
        "outputId": "d03c0984-57a3-4154-bee9-92533cacecd0"
      },
      "execution_count": 120,
      "outputs": [
        {
          "output_type": "execute_result",
          "data": {
            "text/plain": [
              "        ID           Start Time             End Time  Trip Duration  \\\n",
              "0   955915  2017-05-25 18:19:03  2017-05-25 18:45:53         1610.0   \n",
              "1   961916  2017-05-26 09:41:44  2017-05-26 09:46:25          281.0   \n",
              "2  1023296  2017-05-30 15:46:18  2017-05-30 15:52:12          354.0   \n",
              "3   958716  2017-05-25 22:59:33  2017-05-25 23:07:19          466.0   \n",
              "4   718598  2017-05-03 13:20:38  2017-05-03 13:31:13          635.0   \n",
              "\n",
              "                Start Station                     End Station   User Type  \\\n",
              "0         Theater on the Lake    Sheffield Ave & Waveland Ave  Subscriber   \n",
              "1       Ashland Ave & Lake St            Wood St & Hubbard St  Subscriber   \n",
              "2  Larrabee St & Kingsbury St               Clark St & Elm St  Subscriber   \n",
              "3     Clark St & Armitage Ave  Sheffield Ave & Wrightwood Ave  Subscriber   \n",
              "4    Ada St & Washington Blvd              Daley Center Plaza  Subscriber   \n",
              "\n",
              "   Gender  Birth Year  \n",
              "0  Female      1992.0  \n",
              "1  Female      1983.0  \n",
              "2    Male      1985.0  \n",
              "3  Female      1985.0  \n",
              "4    Male      1967.0  "
            ],
            "text/html": [
              "\n",
              "  <div id=\"df-6ccdf414-66ee-43cf-8d41-695ca7b5560e\">\n",
              "    <div class=\"colab-df-container\">\n",
              "      <div>\n",
              "<style scoped>\n",
              "    .dataframe tbody tr th:only-of-type {\n",
              "        vertical-align: middle;\n",
              "    }\n",
              "\n",
              "    .dataframe tbody tr th {\n",
              "        vertical-align: top;\n",
              "    }\n",
              "\n",
              "    .dataframe thead th {\n",
              "        text-align: right;\n",
              "    }\n",
              "</style>\n",
              "<table border=\"1\" class=\"dataframe\">\n",
              "  <thead>\n",
              "    <tr style=\"text-align: right;\">\n",
              "      <th></th>\n",
              "      <th>ID</th>\n",
              "      <th>Start Time</th>\n",
              "      <th>End Time</th>\n",
              "      <th>Trip Duration</th>\n",
              "      <th>Start Station</th>\n",
              "      <th>End Station</th>\n",
              "      <th>User Type</th>\n",
              "      <th>Gender</th>\n",
              "      <th>Birth Year</th>\n",
              "    </tr>\n",
              "  </thead>\n",
              "  <tbody>\n",
              "    <tr>\n",
              "      <th>0</th>\n",
              "      <td>955915</td>\n",
              "      <td>2017-05-25 18:19:03</td>\n",
              "      <td>2017-05-25 18:45:53</td>\n",
              "      <td>1610.0</td>\n",
              "      <td>Theater on the Lake</td>\n",
              "      <td>Sheffield Ave &amp; Waveland Ave</td>\n",
              "      <td>Subscriber</td>\n",
              "      <td>Female</td>\n",
              "      <td>1992.0</td>\n",
              "    </tr>\n",
              "    <tr>\n",
              "      <th>1</th>\n",
              "      <td>961916</td>\n",
              "      <td>2017-05-26 09:41:44</td>\n",
              "      <td>2017-05-26 09:46:25</td>\n",
              "      <td>281.0</td>\n",
              "      <td>Ashland Ave &amp; Lake St</td>\n",
              "      <td>Wood St &amp; Hubbard St</td>\n",
              "      <td>Subscriber</td>\n",
              "      <td>Female</td>\n",
              "      <td>1983.0</td>\n",
              "    </tr>\n",
              "    <tr>\n",
              "      <th>2</th>\n",
              "      <td>1023296</td>\n",
              "      <td>2017-05-30 15:46:18</td>\n",
              "      <td>2017-05-30 15:52:12</td>\n",
              "      <td>354.0</td>\n",
              "      <td>Larrabee St &amp; Kingsbury St</td>\n",
              "      <td>Clark St &amp; Elm St</td>\n",
              "      <td>Subscriber</td>\n",
              "      <td>Male</td>\n",
              "      <td>1985.0</td>\n",
              "    </tr>\n",
              "    <tr>\n",
              "      <th>3</th>\n",
              "      <td>958716</td>\n",
              "      <td>2017-05-25 22:59:33</td>\n",
              "      <td>2017-05-25 23:07:19</td>\n",
              "      <td>466.0</td>\n",
              "      <td>Clark St &amp; Armitage Ave</td>\n",
              "      <td>Sheffield Ave &amp; Wrightwood Ave</td>\n",
              "      <td>Subscriber</td>\n",
              "      <td>Female</td>\n",
              "      <td>1985.0</td>\n",
              "    </tr>\n",
              "    <tr>\n",
              "      <th>4</th>\n",
              "      <td>718598</td>\n",
              "      <td>2017-05-03 13:20:38</td>\n",
              "      <td>2017-05-03 13:31:13</td>\n",
              "      <td>635.0</td>\n",
              "      <td>Ada St &amp; Washington Blvd</td>\n",
              "      <td>Daley Center Plaza</td>\n",
              "      <td>Subscriber</td>\n",
              "      <td>Male</td>\n",
              "      <td>1967.0</td>\n",
              "    </tr>\n",
              "  </tbody>\n",
              "</table>\n",
              "</div>\n",
              "      <button class=\"colab-df-convert\" onclick=\"convertToInteractive('df-6ccdf414-66ee-43cf-8d41-695ca7b5560e')\"\n",
              "              title=\"Convert this dataframe to an interactive table.\"\n",
              "              style=\"display:none;\">\n",
              "        \n",
              "  <svg xmlns=\"http://www.w3.org/2000/svg\" height=\"24px\"viewBox=\"0 0 24 24\"\n",
              "       width=\"24px\">\n",
              "    <path d=\"M0 0h24v24H0V0z\" fill=\"none\"/>\n",
              "    <path d=\"M18.56 5.44l.94 2.06.94-2.06 2.06-.94-2.06-.94-.94-2.06-.94 2.06-2.06.94zm-11 1L8.5 8.5l.94-2.06 2.06-.94-2.06-.94L8.5 2.5l-.94 2.06-2.06.94zm10 10l.94 2.06.94-2.06 2.06-.94-2.06-.94-.94-2.06-.94 2.06-2.06.94z\"/><path d=\"M17.41 7.96l-1.37-1.37c-.4-.4-.92-.59-1.43-.59-.52 0-1.04.2-1.43.59L10.3 9.45l-7.72 7.72c-.78.78-.78 2.05 0 2.83L4 21.41c.39.39.9.59 1.41.59.51 0 1.02-.2 1.41-.59l7.78-7.78 2.81-2.81c.8-.78.8-2.07 0-2.86zM5.41 20L4 18.59l7.72-7.72 1.47 1.35L5.41 20z\"/>\n",
              "  </svg>\n",
              "      </button>\n",
              "      \n",
              "  <style>\n",
              "    .colab-df-container {\n",
              "      display:flex;\n",
              "      flex-wrap:wrap;\n",
              "      gap: 12px;\n",
              "    }\n",
              "\n",
              "    .colab-df-convert {\n",
              "      background-color: #E8F0FE;\n",
              "      border: none;\n",
              "      border-radius: 50%;\n",
              "      cursor: pointer;\n",
              "      display: none;\n",
              "      fill: #1967D2;\n",
              "      height: 32px;\n",
              "      padding: 0 0 0 0;\n",
              "      width: 32px;\n",
              "    }\n",
              "\n",
              "    .colab-df-convert:hover {\n",
              "      background-color: #E2EBFA;\n",
              "      box-shadow: 0px 1px 2px rgba(60, 64, 67, 0.3), 0px 1px 3px 1px rgba(60, 64, 67, 0.15);\n",
              "      fill: #174EA6;\n",
              "    }\n",
              "\n",
              "    [theme=dark] .colab-df-convert {\n",
              "      background-color: #3B4455;\n",
              "      fill: #D2E3FC;\n",
              "    }\n",
              "\n",
              "    [theme=dark] .colab-df-convert:hover {\n",
              "      background-color: #434B5C;\n",
              "      box-shadow: 0px 1px 3px 1px rgba(0, 0, 0, 0.15);\n",
              "      filter: drop-shadow(0px 1px 2px rgba(0, 0, 0, 0.3));\n",
              "      fill: #FFFFFF;\n",
              "    }\n",
              "  </style>\n",
              "\n",
              "      <script>\n",
              "        const buttonEl =\n",
              "          document.querySelector('#df-6ccdf414-66ee-43cf-8d41-695ca7b5560e button.colab-df-convert');\n",
              "        buttonEl.style.display =\n",
              "          google.colab.kernel.accessAllowed ? 'block' : 'none';\n",
              "\n",
              "        async function convertToInteractive(key) {\n",
              "          const element = document.querySelector('#df-6ccdf414-66ee-43cf-8d41-695ca7b5560e');\n",
              "          const dataTable =\n",
              "            await google.colab.kernel.invokeFunction('convertToInteractive',\n",
              "                                                     [key], {});\n",
              "          if (!dataTable) return;\n",
              "\n",
              "          const docLinkHtml = 'Like what you see? Visit the ' +\n",
              "            '<a target=\"_blank\" href=https://colab.research.google.com/notebooks/data_table.ipynb>data table notebook</a>'\n",
              "            + ' to learn more about interactive tables.';\n",
              "          element.innerHTML = '';\n",
              "          dataTable['output_type'] = 'display_data';\n",
              "          await google.colab.output.renderOutput(dataTable, element);\n",
              "          const docLink = document.createElement('div');\n",
              "          docLink.innerHTML = docLinkHtml;\n",
              "          element.appendChild(docLink);\n",
              "        }\n",
              "      </script>\n",
              "    </div>\n",
              "  </div>\n",
              "  "
            ]
          },
          "metadata": {},
          "execution_count": 120
        }
      ]
    },
    {
      "cell_type": "markdown",
      "metadata": {
        "id": "iSq1jdSH98fR"
      },
      "source": [
        "Let's gain some basic understanding of the dataset"
      ]
    },
    {
      "cell_type": "code",
      "metadata": {
        "id": "N7wTresvdVWl",
        "colab": {
          "base_uri": "https://localhost:8080/"
        },
        "outputId": "1c8fef73-c334-43ac-f677-c6715e81c836"
      },
      "source": [
        "#For each task below, look for a Pandas function to do the task.\n",
        "a = pd.read_csv('vehicle_share.csv')\n",
        "\n",
        "#Task a: Print the details of the df_data data frame (information such as dimensionality, names of features (note that there's no target variable here), statistical details, etc)\n",
        "a.info()\n",
        "\n",
        "#Task b: Print the Name of the trip's end station used in the dataset with the number of their occurences\n",
        "a['End Station'].value_counts\n",
        "\n",
        "#Task c: Print the number of duplicated rows in the dataset and remove the duplicated rows\n",
        "a.drop_duplicates(inplace= True)\n",
        "print(\"Number of rows after removing duplicates:\", len(t))"
      ],
      "execution_count": 121,
      "outputs": [
        {
          "output_type": "stream",
          "name": "stdout",
          "text": [
            "<class 'pandas.core.frame.DataFrame'>\n",
            "RangeIndex: 191963 entries, 0 to 191962\n",
            "Data columns (total 9 columns):\n",
            " #   Column         Non-Null Count   Dtype  \n",
            "---  ------         --------------   -----  \n",
            " 0   ID             191963 non-null  int64  \n",
            " 1   Start Time     191963 non-null  object \n",
            " 2   End Time       191963 non-null  object \n",
            " 3   Trip Duration  191963 non-null  float64\n",
            " 4   Start Station  191963 non-null  object \n",
            " 5   End Station    191963 non-null  object \n",
            " 6   User Type      191963 non-null  object \n",
            " 7   Gender         110287 non-null  object \n",
            " 8   Birth Year     110501 non-null  float64\n",
            "dtypes: float64(2), int64(1), object(6)\n",
            "memory usage: 13.2+ MB\n",
            "Number of rows after removing duplicates: 191963\n"
          ]
        }
      ]
    },
    {
      "cell_type": "markdown",
      "metadata": {
        "id": "krfuevEb-a9c"
      },
      "source": [
        "## **Need for data cleaning and preprocessing**\n",
        "\n",
        "The results of these several functions indicate a few needs for cleaning and preprocessing the data:\n",
        "\n",
        "1) The column `Birth Year` should be integer, but it has floating point values.\n",
        "\n",
        "2) There are null values in a few columns. \n",
        "\n",
        "3) The values in columns `Start Time` and `End Time` are strings. We need to convert them to `datetime` values.\n"
      ]
    },
    {
      "cell_type": "markdown",
      "metadata": {
        "id": "dg9W0E7nGRrF"
      },
      "source": [
        "Let's find out which columns have null values. This could be derived from the `Non-Null Count` in the output of `trips.info()`. But there are simpler ways."
      ]
    },
    {
      "cell_type": "markdown",
      "metadata": {
        "id": "dCZk1EMcw_aB"
      },
      "source": [
        "## **Task 1: For each column, find the number of rows with null value in that column.** \n",
        "\n",
        "If your code for this task is correct, its output should tell you that two columns have null values --- column `Gender` has missing value in 81676 rows and 81462 for column `Birth Year`. Other columns have no null values. "
      ]
    },
    {
      "cell_type": "code",
      "metadata": {
        "id": "6vGs8aLSgTB2",
        "colab": {
          "base_uri": "https://localhost:8080/"
        },
        "outputId": "a2d1dc30-345a-486f-f56d-6eda9b86bcd5"
      },
      "source": [
        "# Code for Task 1\n",
        "a_data = pd.read_csv('vehicle_share.csv')\n",
        "# to find the number of values\n",
        "null_val = a.isnull().sum()\n",
        "print(null_val)"
      ],
      "execution_count": 119,
      "outputs": [
        {
          "output_type": "stream",
          "name": "stdout",
          "text": [
            "ID                   0\n",
            "Start Time           0\n",
            "End Time             0\n",
            "Trip Duration        0\n",
            "Start Station        0\n",
            "End Station          0\n",
            "User Type            0\n",
            "Gender           81676\n",
            "Birth Year       81462\n",
            "Strt Time            0\n",
            "dtype: int64\n"
          ]
        }
      ]
    },
    {
      "cell_type": "markdown",
      "metadata": {
        "id": "agWBWQcxzSOO"
      },
      "source": [
        "\n",
        "\n",
        "The `ID` column is not useful in our analysis. Hence, let's take it out. \n",
        "\n",
        "## **Task 2: Remove the `ID` column from the DataFrame `trips`.**"
      ]
    },
    {
      "cell_type": "code",
      "metadata": {
        "id": "pb5JfRdrz3SX"
      },
      "source": [
        "# Code for Task 2\n",
        "a = a.iloc[:,1:]"
      ],
      "execution_count": 122,
      "outputs": []
    },
    {
      "cell_type": "markdown",
      "metadata": {
        "id": "kYN0cPdIPC56"
      },
      "source": [
        "## **Task 3: Replace null values in column `Gender` by `'Unknown'`. Replace null values in column `Birth Year` by -1. Note that this task has two desiganated code blocks.** \n",
        "\n",
        "The column `Gender` has Null values, as `trips.describe()` shows. Hence, we are using a string `Unknown` to indicate that the user's gender information is not recorded. The column `Birth Year` has Null values too. We thus use -1 to indicate missing values in `Birth Year`."
      ]
    },
    {
      "cell_type": "code",
      "metadata": {
        "id": "jhnZsvNfjZRN"
      },
      "source": [
        "# Code for Task 3 : code block for replacing null values in column Gender by ``Unknown``.\n",
        "a.loc[a['Gender'].isnull(), 'Gender'] = 'Unnknown'"
      ],
      "execution_count": 123,
      "outputs": []
    },
    {
      "cell_type": "code",
      "metadata": {
        "id": "NQa9ZyYlQ6Qk"
      },
      "source": [
        "# Code for Task 3: code block for replacing null values in column Birth Year by -1.\n",
        "a.loc[a['Birth Year'].isnull(), 'Birth Year'] = 'Unnknown'"
      ],
      "execution_count": 124,
      "outputs": []
    },
    {
      "cell_type": "markdown",
      "metadata": {
        "id": "ODrci3YORMlu"
      },
      "source": [
        "## **Task 4: Convert the data type of column ``Birth year`` to integer. Convert the data type of column ``Start Time`` and ``End Time`` to `datetime`.  Note that this task has two designated code blocks.**"
      ]
    },
    {
      "cell_type": "code",
      "metadata": {
        "id": "KueSujDQhuwc"
      },
      "source": [
        "# Code for Task 4: code block for converting the data type of column ``Year Pubblished`` to integer.\n",
        "a.loc[:, 'Birth Year'] = pd.to_numeric(a.loc[:, 'Birth Year'], errors='ignore')"
      ],
      "execution_count": 126,
      "outputs": []
    },
    {
      "cell_type": "code",
      "metadata": {
        "id": "bXvfJEsaRpnG"
      },
      "source": [
        "# Code for Task 4: code block for converting the data type of column ``Start Time`` and ``End Time`` to ``datetime``. \n",
        "a= pd.read_csv('vehicle_share.csv')\n",
        "a['Strt Time'] = pd.to_datetime(a['Start Time'])\n",
        "a['End Time'] = pd.to_datetime(a['End Time'])\n"
      ],
      "execution_count": 127,
      "outputs": []
    },
    {
      "cell_type": "markdown",
      "source": [
        "Run the following code cell so that, even if your code in preceding tasks messed up the data, it will not affect the ensuing tasks."
      ],
      "metadata": {
        "id": "qvJPaB5TsC13"
      }
    },
    {
      "cell_type": "code",
      "source": [
        "import pandas as pd\n",
        "#load the file  task5.pkl into a dataframe trips\n",
        "b = pd.read_pickle('task5.pkl')\n",
        "\n"
      ],
      "metadata": {
        "id": "CgMI0OrnsPUE"
      },
      "execution_count": 12,
      "outputs": []
    },
    {
      "cell_type": "markdown",
      "metadata": {
        "id": "kHqtanC_ExhJ"
      },
      "source": [
        "We want to find out which gender of users used the vehicle sharing service more often.\n",
        "\n",
        "## **Task 5: Get the frequency of trips for both the Genders.**"
      ]
    },
    {
      "cell_type": "code",
      "metadata": {
        "id": "jERMksm6t7id",
        "colab": {
          "base_uri": "https://localhost:8080/",
          "height": 380
        },
        "outputId": "68d29977-342a-47e9-a94b-a8369e93e991"
      },
      "source": [
        "# Code for Task 5\n",
        "## Task 5-1: Get the frequency of trips for both the  Genders.\n",
        "gender_b = b['Gender'].value_counts()\n",
        "print(gender_b)\n",
        "# Task 5-2 Display the pie chart that represents the percentage (%) of trips for each Genders and display percentages in legend respectively\n",
        "sns.barplot(x=gender_b.index, y=gender_b.values)\n",
        "plt.xlabel('gender')\n",
        "plt.ylabel('frequency')\n",
        "plt.title('trips for both')"
      ],
      "execution_count": 128,
      "outputs": [
        {
          "output_type": "stream",
          "name": "stdout",
          "text": [
            "Male       82335\n",
            "Unknown    81676\n",
            "Female     27952\n",
            "Name: Gender, dtype: int64\n"
          ]
        },
        {
          "output_type": "execute_result",
          "data": {
            "text/plain": [
              "Text(0.5, 1.0, 'trips for both')"
            ]
          },
          "metadata": {},
          "execution_count": 128
        },
        {
          "output_type": "display_data",
          "data": {
            "text/plain": [
              "<Figure size 432x288 with 1 Axes>"
            ],
            "image/png": "[encoded data removed]"
          },
          "metadata": {
            "needs_background": "light"
          }
        }
      ]
    },
    {
      "cell_type": "markdown",
      "metadata": {
        "id": "JLP24wFiAi0W"
      },
      "source": [
        "## **Task 6: Get the number of trips with each station as the starting point. Sort the start stations by frequency of trips, in descending order.**\n",
        "\n",
        "If you get the correct code, you will find that for 1719 trips `Streeter Dr & Grand Ave` is the `Starting Station`, which is the most among all stations. "
      ]
    },
    {
      "cell_type": "code",
      "metadata": {
        "id": "ajKIz33BP9ov",
        "colab": {
          "base_uri": "https://localhost:8080/"
        },
        "outputId": "155cebd0-278a-4ea1-cc18-14505bf788e6"
      },
      "source": [
        "# Code for Task 6\n",
        "import pandas as pd\n",
        "# Load the pickle file\n",
        "b = pd.read_pickle('task5.pkl')\n",
        "# Sort start stations by frequency of trips\n",
        "sort_strtstat = b.groupby('Start Station').size().sort_values(ascending=False)\n",
        "# get num of trips for each strt station\n",
        "print(sort_strtstat)"
      ],
      "execution_count": 16,
      "outputs": [
        {
          "output_type": "stream",
          "name": "stdout",
          "text": [
            "Start Station\n",
            "Streeter Dr & Grand Ave             1719\n",
            "Lake Shore Dr & Monroe St           1211\n",
            "Lincoln Memorial                    1112\n",
            "Jefferson Dr & 14th St SW           1042\n",
            "Columbus Circle / Union Station     1011\n",
            "                                    ... \n",
            "Bressler                               1\n",
            "Morgan St & Pershing Rd                1\n",
            "Westpark Dr & Leesburg Pike            1\n",
            "White House [17th & State Pl NW]       1\n",
            "Racine Ave & 65th St                   1\n",
            "Length: 1616, dtype: int64\n"
          ]
        }
      ]
    },
    {
      "cell_type": "markdown",
      "source": [
        "\n",
        "## **Task 7: Find the longest trip (in seconds) in our dataset.**\n"
      ],
      "metadata": {
        "id": "tUxYxGy0uAbC"
      }
    },
    {
      "cell_type": "code",
      "source": [
        "# Code for Task 7\n",
        "b = pd.read_pickle('task5.pkl')\n",
        "# Find the longest trip in seconds\n",
        "longest_t = b['Trip Duration'].max()\n",
        "print(\"The longest trip in seconds is:\", longest_t)"
      ],
      "metadata": {
        "id": "nMEJqtFuuRWE",
        "colab": {
          "base_uri": "https://localhost:8080/"
        },
        "outputId": "80b7daf9-ae3e-484c-ba3f-00bcb6a429da"
      },
      "execution_count": 17,
      "outputs": [
        {
          "output_type": "stream",
          "name": "stdout",
          "text": [
            "The longest trip in seconds is: 885567.6070000001\n"
          ]
        }
      ]
    },
    {
      "cell_type": "markdown",
      "source": [
        "## **Task 8: Find the start station and end staion for the longest trip.**\n",
        "\n",
        "If your code is correct, it should show the start and the end stations are __19th St & Constitution Ave NW__ and __23rd & E St NW__, respectively."
      ],
      "metadata": {
        "id": "7Hl5thB-1u5L"
      }
    },
    {
      "cell_type": "code",
      "source": [
        "# Code for Task 8\n",
        "b = pd.read_pickle('task5.pkl')\n",
        "# get row of  longest trip\n",
        "longest_t = b.sort_values(by='Trip Duration', ascending=False).iloc[0]\n",
        "# get the start and end stations\n",
        "(strt_statn,end_statn) = (longest_t['Start Station'],longest_t['End Station'])\n",
        "print(f\"Start Station: {strt_statn}\",f\"End Station: {end_statn}\")"
      ],
      "metadata": {
        "id": "8Qp68Q1I7Z4M",
        "colab": {
          "base_uri": "https://localhost:8080/"
        },
        "outputId": "352294e2-3b32-4d30-d0c8-ea528a9a757f"
      },
      "execution_count": 18,
      "outputs": [
        {
          "output_type": "stream",
          "name": "stdout",
          "text": [
            "Start Station: 19th St & Constitution Ave NW End Station: 23rd & E St NW \n"
          ]
        }
      ]
    },
    {
      "cell_type": "code",
      "source": [
        "#Display the countplot of  the  5 top  Trip Duration for each gender\n",
        "b_gender = a.loc[a['Gender'] != 'Unknown']\n",
        "# creating a new column with trip duration \n",
        "b_gender.loc[:, 'Trip Duration (min)'] = b_gender['Trip Duration'] / 10\n",
        "#  top 5 longest trip durations for male and female\n",
        "top5_male = b_gender.loc[b_gender['Gender'] == 'Male'].nlargest(5, 'Trip Duration (min)')\n",
        "top5_female = b_gender.loc[b_gender['Gender'] == 'Female'].nlargest(5, 'Trip Duration (min)')\n",
        "# concating 2 dataframes\n",
        "top5 = pd.concat([top5_male, top5_female])\n",
        "# countplot\n",
        "sns.countplot(x='Trip Duration (min)', hue='Gender', data=top5)"
      ],
      "metadata": {
        "id": "Ocogb0g-BIzs",
        "colab": {
          "base_uri": "https://localhost:8080/",
          "height": 296
        },
        "outputId": "d38104e8-de28-4e2a-e1e3-fcc18945d072"
      },
      "execution_count": 156,
      "outputs": [
        {
          "output_type": "execute_result",
          "data": {
            "text/plain": [
              "<Axes: xlabel='Trip Duration (min)', ylabel='count'>"
            ]
          },
          "metadata": {},
          "execution_count": 156
        },
        {
          "output_type": "display_data",
          "data": {
            "text/plain": [
              "<Figure size 432x288 with 1 Axes>"
            ],
            "image/png": "[encoded data removed]"
          },
          "metadata": {
            "needs_background": "light"
          }
        }
      ]
    },
    {
      "cell_type": "markdown",
      "metadata": {
        "id": "VHvPu_Tptin8"
      },
      "source": [
        "We want to analyze the user base of the vehicle sharing service, especially their age. For that let's create an `Age` column based on `Birth Year`. Since the trips all took place in May 2017, we should calculate the users' ages then (i.e., 2017) instead of now.\n",
        "\n",
        "## **Task 9: Create a column `Age` using `Birth Year`.**\n",
        "\n",
        "\n"
      ]
    },
    {
      "cell_type": "code",
      "metadata": {
        "id": "lylGsyz_T-2x",
        "colab": {
          "base_uri": "https://localhost:8080/"
        },
        "outputId": "3e1a2205-754d-4753-b19a-9830fbccc9a5"
      },
      "source": [
        "# Code for Task 9\n",
        "c = pd.read_pickle('task9.pkl')\n",
        "# Calculate the age of users at the time of the trip\n",
        "c['Age'] = 2017 - c['Birth Year']\n",
        "# Print the first 5 rows of the data with the new Age column\n",
        "print(c.head())"
      ],
      "execution_count": 117,
      "outputs": [
        {
          "output_type": "stream",
          "name": "stdout",
          "text": [
            "           Start Time            End Time  Trip Duration  \\\n",
            "0 2017-05-25 18:19:03 2017-05-25 18:45:53         1610.0   \n",
            "1 2017-05-26 09:41:44 2017-05-26 09:46:25          281.0   \n",
            "2 2017-05-30 15:46:18 2017-05-30 15:52:12          354.0   \n",
            "3 2017-05-25 22:59:33 2017-05-25 23:07:19          466.0   \n",
            "4 2017-05-03 13:20:38 2017-05-03 13:31:13          635.0   \n",
            "\n",
            "                Start Station                     End Station   User Type  \\\n",
            "0         Theater on the Lake    Sheffield Ave & Waveland Ave  Subscriber   \n",
            "1       Ashland Ave & Lake St            Wood St & Hubbard St  Subscriber   \n",
            "2  Larrabee St & Kingsbury St               Clark St & Elm St  Subscriber   \n",
            "3     Clark St & Armitage Ave  Sheffield Ave & Wrightwood Ave  Subscriber   \n",
            "4    Ada St & Washington Blvd              Daley Center Plaza  Subscriber   \n",
            "\n",
            "   Gender  Birth Year  Age  \n",
            "0  Female        1992   25  \n",
            "1  Female        1983   34  \n",
            "2    Male        1985   32  \n",
            "3  Female        1985   32  \n",
            "4    Male        1967   50  \n"
          ]
        }
      ]
    },
    {
      "cell_type": "markdown",
      "metadata": {
        "id": "2PtdcFZaduxG"
      },
      "source": [
        "In Task 3 we replaced null values in `Birth Year` with -1. Some of the `Age` values thus incorrectly become 2018. We need to replace them with -1 again."
      ]
    },
    {
      "cell_type": "code",
      "source": [
        "c['Age'] = c['Age'].replace(2018, -1)"
      ],
      "metadata": {
        "id": "wvzqc6Oi8UZc"
      },
      "execution_count": 118,
      "outputs": []
    },
    {
      "cell_type": "markdown",
      "source": [
        "Run the following code cell so that, even if your code in preceding tasks messed up the data, it will not affect the ensuing tasks."
      ],
      "metadata": {
        "id": "T_UV69IMuaTn"
      }
    },
    {
      "cell_type": "code",
      "source": [
        "import pandas as pd\n",
        "#load the file task9.pkl into a dataframe trips\n",
        "c = pd.read_pickle('task9.pkl')"
      ],
      "metadata": {
        "id": "H5f9Ow-muaTo"
      },
      "execution_count": 39,
      "outputs": []
    },
    {
      "cell_type": "markdown",
      "metadata": {
        "id": "xvRA6Z82eZCb"
      },
      "source": [
        "Now let's create a categorical feature `Age Group` based on `Age`. We can discretize `Age` into `Child` (for 00-14 years old), `Youth` (for 14-24 years old), `Adult` (for 24-64 years old), and `Senior` (64 years and over). We should set the value of `Age Group` to a string `N/A` if the `Age` value is -1. In every category range, the starting point is inclusive and the endpoint is exclusive. For instance, the `Child` group is for those with `Age` >= 0 and `Age` < 14."
      ]
    },
    {
      "cell_type": "markdown",
      "source": [
        "## **Task 10: Create a column `Age Group` and assign string values in this column based on `Age` according to the above description.**"
      ],
      "metadata": {
        "id": "P-st8xKuURXI"
      }
    },
    {
      "cell_type": "code",
      "source": [
        "# Code for Task 10\n",
        "def age_group(a):\n",
        "    if a == -1:\n",
        "        return 'N/A'\n",
        "    elif a < 14:\n",
        "        return 'Child'\n",
        "    elif a < 24:\n",
        "        return 'Youth'\n",
        "    elif a < 64:\n",
        "        return 'Adult'\n",
        "    else:\n",
        "        return 'Senior'\n",
        "# Applying age_group function to create the Age Group column\n",
        "c['Age Group'] = c['Age'].apply(age_group)"
      ],
      "metadata": {
        "id": "UHQNRUp3UPtX"
      },
      "execution_count": 40,
      "outputs": []
    },
    {
      "cell_type": "code",
      "source": [
        "c['Age Group'].value_counts()"
      ],
      "metadata": {
        "id": "1RRAdkEvaPi_",
        "colab": {
          "base_uri": "https://localhost:8080/"
        },
        "outputId": "e75dcd69-0999-4faf-b050-ec842eda338a"
      },
      "execution_count": 41,
      "outputs": [
        {
          "output_type": "execute_result",
          "data": {
            "text/plain": [
              "Adult     103364\n",
              "N/A        81462\n",
              "Youth       4635\n",
              "Senior      2501\n",
              "Child          1\n",
              "Name: Age Group, dtype: int64"
            ]
          },
          "metadata": {},
          "execution_count": 41
        }
      ]
    },
    {
      "cell_type": "markdown",
      "source": [
        "Run the following code cell so that, even if your code in preceding tasks messed up the data, it will not affect the ensuing tasks."
      ],
      "metadata": {
        "id": "RN01l6B-vhX6"
      }
    },
    {
      "cell_type": "code",
      "source": [
        "import pandas as pd\n",
        "#load the file task10.pkl into a dataframe trips\n",
        "d = pd.read_pickle('task10.pkl')\n"
      ],
      "metadata": {
        "id": "N8OhUgAmvhX6"
      },
      "execution_count": 42,
      "outputs": []
    },
    {
      "cell_type": "markdown",
      "metadata": {
        "id": "_7uK2MuDgZ9r"
      },
      "source": [
        "Our next task attempts to examine the relationship between `Age Group` and average trip time."
      ]
    },
    {
      "cell_type": "markdown",
      "metadata": {
        "id": "g2O8f0jxgFpj"
      },
      "source": [
        "## **Task 11: For each value of `Age Group` (except for `N/A`), find the average `Trip Duration`.**"
      ]
    },
    {
      "cell_type": "code",
      "metadata": {
        "id": "WwF5yzxzOj2E",
        "colab": {
          "base_uri": "https://localhost:8080/"
        },
        "outputId": "6188416c-a29c-499d-d6c4-add75d1701cc"
      },
      "source": [
        "# Code for Task 11-1\n",
        "d = pd.read_pickle('task10.pkl')\n",
        "# finding average of Age Group and calculating Trip Duration using mean function\n",
        "age_groups = d.groupby('Age Group')['Trip Duration'].mean()\n",
        "print(age_groups)"
      ],
      "execution_count": 115,
      "outputs": [
        {
          "output_type": "stream",
          "name": "stdout",
          "text": [
            "Age Group\n",
            "Adult      765.169711\n",
            "Child      639.000000\n",
            "N/A       1459.034288\n",
            "Senior     784.281887\n",
            "Youth      740.381014\n",
            "Name: Trip Duration, dtype: float64\n"
          ]
        }
      ]
    },
    {
      "cell_type": "code",
      "source": [
        "_# Code for Task 11-2\n",
        "#Display the countplot of  the average Trip Duration for each Age Group\n",
        "age_groups = d.groupby('Age Group')['Trip Duration'].mean().reset_index()\n",
        "#creating countplot\n",
        "sns.countplot(x='Age Group', data=age_groups)\n",
        "#plot x and y labels and also title\n",
        "plt.xlabel('Age Group')\n",
        "plt.ylabel('Count of Trip Duration')\n",
        "plt.title('Count of Trip Duration for each Age Group')"
      ],
      "metadata": {
        "id": "dJOSnE_69GJL",
        "colab": {
          "base_uri": "https://localhost:8080/",
          "height": 312
        },
        "outputId": "541209cf-c776-44d7-8eb4-82fb017da2fe"
      },
      "execution_count": 134,
      "outputs": [
        {
          "output_type": "execute_result",
          "data": {
            "text/plain": [
              "Text(0.5, 1.0, 'Count of Trip Duration for each Age Group')"
            ]
          },
          "metadata": {},
          "execution_count": 134
        },
        {
          "output_type": "display_data",
          "data": {
            "text/plain": [
              "<Figure size 432x288 with 1 Axes>"
            ],
            "image/png": "[encoded data removed]"
          },
          "metadata": {
            "needs_background": "light"
          }
        }
      ]
    },
    {
      "cell_type": "markdown",
      "metadata": {
        "id": "vYBrZ_i8kbIz"
      },
      "source": [
        "## **Task 12: Produce a pivot table of number of trips, using `Gender` for rows and `User type` for columns. Exclude the trips from users whose gender is `Unknown`.**\n"
      ]
    },
    {
      "cell_type": "code",
      "metadata": {
        "id": "04GlWOrCYdqr",
        "colab": {
          "base_uri": "https://localhost:8080/",
          "height": 173
        },
        "outputId": "d7b59a8b-c227-4d51-e532-e38f8de399e9"
      },
      "source": [
        "# Code for Task 12 \n",
        "#removing unknown values in gender column\n",
        "d = d[d['Gender'] != 'Unknown']\n",
        "#produce a pivot table of number of trips using Gender for rows and User Type for columns\n",
        "d_counts = pd.pivot_table(d, index='Gender', columns='User Type', values='Trip Duration', aggfunc='count', fill_value=0)\n",
        "d_counts"
      ],
      "execution_count": 151,
      "outputs": [
        {
          "output_type": "execute_result",
          "data": {
            "text/plain": [
              "User Type  Customer  Subscriber\n",
              "Gender                         \n",
              "Female          475       27477\n",
              "Male            895       81440\n",
              "Unnknown      39736       41940"
            ],
            "text/html": [
              "\n",
              "  <div id=\"df-a63e3704-752c-4b2a-ade4-c5270f1594a1\">\n",
              "    <div class=\"colab-df-container\">\n",
              "      <div>\n",
              "<style scoped>\n",
              "    .dataframe tbody tr th:only-of-type {\n",
              "        vertical-align: middle;\n",
              "    }\n",
              "\n",
              "    .dataframe tbody tr th {\n",
              "        vertical-align: top;\n",
              "    }\n",
              "\n",
              "    .dataframe thead th {\n",
              "        text-align: right;\n",
              "    }\n",
              "</style>\n",
              "<table border=\"1\" class=\"dataframe\">\n",
              "  <thead>\n",
              "    <tr style=\"text-align: right;\">\n",
              "      <th>User Type</th>\n",
              "      <th>Customer</th>\n",
              "      <th>Subscriber</th>\n",
              "    </tr>\n",
              "    <tr>\n",
              "      <th>Gender</th>\n",
              "      <th></th>\n",
              "      <th></th>\n",
              "    </tr>\n",
              "  </thead>\n",
              "  <tbody>\n",
              "    <tr>\n",
              "      <th>Female</th>\n",
              "      <td>475</td>\n",
              "      <td>27477</td>\n",
              "    </tr>\n",
              "    <tr>\n",
              "      <th>Male</th>\n",
              "      <td>895</td>\n",
              "      <td>81440</td>\n",
              "    </tr>\n",
              "    <tr>\n",
              "      <th>Unnknown</th>\n",
              "      <td>39736</td>\n",
              "      <td>41940</td>\n",
              "    </tr>\n",
              "  </tbody>\n",
              "</table>\n",
              "</div>\n",
              "      <button class=\"colab-df-convert\" onclick=\"convertToInteractive('df-a63e3704-752c-4b2a-ade4-c5270f1594a1')\"\n",
              "              title=\"Convert this dataframe to an interactive table.\"\n",
              "              style=\"display:none;\">\n",
              "        \n",
              "  <svg xmlns=\"http://www.w3.org/2000/svg\" height=\"24px\"viewBox=\"0 0 24 24\"\n",
              "       width=\"24px\">\n",
              "    <path d=\"M0 0h24v24H0V0z\" fill=\"none\"/>\n",
              "    <path d=\"M18.56 5.44l.94 2.06.94-2.06 2.06-.94-2.06-.94-.94-2.06-.94 2.06-2.06.94zm-11 1L8.5 8.5l.94-2.06 2.06-.94-2.06-.94L8.5 2.5l-.94 2.06-2.06.94zm10 10l.94 2.06.94-2.06 2.06-.94-2.06-.94-.94-2.06-.94 2.06-2.06.94z\"/><path d=\"M17.41 7.96l-1.37-1.37c-.4-.4-.92-.59-1.43-.59-.52 0-1.04.2-1.43.59L10.3 9.45l-7.72 7.72c-.78.78-.78 2.05 0 2.83L4 21.41c.39.39.9.59 1.41.59.51 0 1.02-.2 1.41-.59l7.78-7.78 2.81-2.81c.8-.78.8-2.07 0-2.86zM5.41 20L4 18.59l7.72-7.72 1.47 1.35L5.41 20z\"/>\n",
              "  </svg>\n",
              "      </button>\n",
              "      \n",
              "  <style>\n",
              "    .colab-df-container {\n",
              "      display:flex;\n",
              "      flex-wrap:wrap;\n",
              "      gap: 12px;\n",
              "    }\n",
              "\n",
              "    .colab-df-convert {\n",
              "      background-color: #E8F0FE;\n",
              "      border: none;\n",
              "      border-radius: 50%;\n",
              "      cursor: pointer;\n",
              "      display: none;\n",
              "      fill: #1967D2;\n",
              "      height: 32px;\n",
              "      padding: 0 0 0 0;\n",
              "      width: 32px;\n",
              "    }\n",
              "\n",
              "    .colab-df-convert:hover {\n",
              "      background-color: #E2EBFA;\n",
              "      box-shadow: 0px 1px 2px rgba(60, 64, 67, 0.3), 0px 1px 3px 1px rgba(60, 64, 67, 0.15);\n",
              "      fill: #174EA6;\n",
              "    }\n",
              "\n",
              "    [theme=dark] .colab-df-convert {\n",
              "      background-color: #3B4455;\n",
              "      fill: #D2E3FC;\n",
              "    }\n",
              "\n",
              "    [theme=dark] .colab-df-convert:hover {\n",
              "      background-color: #434B5C;\n",
              "      box-shadow: 0px 1px 3px 1px rgba(0, 0, 0, 0.15);\n",
              "      filter: drop-shadow(0px 1px 2px rgba(0, 0, 0, 0.3));\n",
              "      fill: #FFFFFF;\n",
              "    }\n",
              "  </style>\n",
              "\n",
              "      <script>\n",
              "        const buttonEl =\n",
              "          document.querySelector('#df-a63e3704-752c-4b2a-ade4-c5270f1594a1 button.colab-df-convert');\n",
              "        buttonEl.style.display =\n",
              "          google.colab.kernel.accessAllowed ? 'block' : 'none';\n",
              "\n",
              "        async function convertToInteractive(key) {\n",
              "          const element = document.querySelector('#df-a63e3704-752c-4b2a-ade4-c5270f1594a1');\n",
              "          const dataTable =\n",
              "            await google.colab.kernel.invokeFunction('convertToInteractive',\n",
              "                                                     [key], {});\n",
              "          if (!dataTable) return;\n",
              "\n",
              "          const docLinkHtml = 'Like what you see? Visit the ' +\n",
              "            '<a target=\"_blank\" href=https://colab.research.google.com/notebooks/data_table.ipynb>data table notebook</a>'\n",
              "            + ' to learn more about interactive tables.';\n",
              "          element.innerHTML = '';\n",
              "          dataTable['output_type'] = 'display_data';\n",
              "          await google.colab.output.renderOutput(dataTable, element);\n",
              "          const docLink = document.createElement('div');\n",
              "          docLink.innerHTML = docLinkHtml;\n",
              "          element.appendChild(docLink);\n",
              "        }\n",
              "      </script>\n",
              "    </div>\n",
              "  </div>\n",
              "  "
            ]
          },
          "metadata": {},
          "execution_count": 151
        }
      ]
    },
    {
      "cell_type": "markdown",
      "source": [
        "## **Task 13: Get the average `Trip Duration` for each day of a week. The results should be sorted by average trip duration.**\n",
        "\n",
        "To decide the day of a trip, we only consider the trip's start time. For instance, if a trip starts on Monday, it is a Monday trip, regardless of when it ends. \n",
        "\n"
      ],
      "metadata": {
        "id": "nUqeCv7lkk8g"
      }
    },
    {
      "cell_type": "code",
      "source": [
        "# Code for Task 13-1\n",
        "# convert the 'Start Time' column to datetime\n",
        "d['Start Time'] = pd.to_datetime(t['Start Time'])\n",
        "# extract the day of week from the 'Start Time' column\n",
        "d['Day of Week'] = d['Start Time'].dt.day_name()\n",
        "# calculate the average trip duration for each day of the week\n",
        "avg_duration_by_day = d.groupby('Day of Week')['Trip Duration'].mean()\n",
        "# print the average trip duration for each day of the week\n",
        "avg_duration_by_day"
      ],
      "metadata": {
        "id": "4TSCAsV4goW3",
        "colab": {
          "base_uri": "https://localhost:8080/"
        },
        "outputId": "4e1e79c3-d85b-4da7-d29e-6d5ceb95f33e"
      },
      "execution_count": 178,
      "outputs": [
        {
          "output_type": "execute_result",
          "data": {
            "text/plain": [
              "Day of Week\n",
              "Friday        964.368331\n",
              "Monday       1092.311058\n",
              "Saturday     1344.448537\n",
              "Sunday       1382.117428\n",
              "Thursday      898.084620\n",
              "Tuesday       918.600529\n",
              "Wednesday     940.540680\n",
              "Name: Trip Duration, dtype: float64"
            ]
          },
          "metadata": {},
          "execution_count": 178
        }
      ]
    },
    {
      "cell_type": "code",
      "source": [
        "# Code for Task 13-2\n",
        "#Display the countplot of  the average Trip Duration for each day of a week\n",
        "#Calculate avg trip duration for each day of the week\n",
        "avg_duration_by_day = d.groupby('Day of Week')['Trip Duration'].mean().reset_index()\n",
        "#sorting by avg trip duration in ascending order\n",
        "avg_duration_by_day = avg_duration_by_day.sort_values(by='Trip Duration')\n",
        "#creating countplot\n",
        "plt.bar(avg_duration_by_day['Day of Week'], avg_duration_by_day['Trip Duration'])\n",
        "plt.xlabel('Day of Week')\n",
        "plt.ylabel('Average Trip Duration')\n",
        "plt.title('Average Trip Duration for each day of Week')"
      ],
      "metadata": {
        "id": "KvN7XWAZ8MEk",
        "colab": {
          "base_uri": "https://localhost:8080/",
          "height": 312
        },
        "outputId": "ccc9245b-6678-4e12-c389-77ab3717abe4"
      },
      "execution_count": 179,
      "outputs": [
        {
          "output_type": "execute_result",
          "data": {
            "text/plain": [
              "Text(0.5, 1.0, 'Average Trip Duration for each day of Week')"
            ]
          },
          "metadata": {},
          "execution_count": 179
        },
        {
          "output_type": "display_data",
          "data": {
            "text/plain": [
              "<Figure size 432x288 with 1 Axes>"
            ],
            "image/png": "[encoded data removed]"
          },
          "metadata": {
            "needs_background": "light"
          }
        }
      ]
    },
    {
      "cell_type": "markdown",
      "source": [
        "## **Task 14: Get the three most popular trip routes, in terms of `Start Station` and `End Station`**\n"
      ],
      "metadata": {
        "id": "-0qacO9ux7L7"
      }
    },
    {
      "cell_type": "code",
      "source": [
        "# Code for Task 14-1\n",
        "# group Start Station and End Station \n",
        "pop_routes = d.groupby(['Start Station', 'End Station']).size()\n",
        "# sort num of trips in descending order\n",
        "pop_routes = pop_routes.sort_values(ascending=False)\n",
        "# get 3 most popular routes\n",
        "pop_routes = pop_routes[:3]\n",
        "pop_routes"
      ],
      "metadata": {
        "id": "iLibr4dPwyqp",
        "colab": {
          "base_uri": "https://localhost:8080/"
        },
        "outputId": "ab1f0827-84f3-4c4a-9a5e-f3605e2cb243"
      },
      "execution_count": 176,
      "outputs": [
        {
          "output_type": "execute_result",
          "data": {
            "text/plain": [
              "Start Station              End Station              \n",
              "Lake Shore Dr & Monroe St  Streeter Dr & Grand Ave      255\n",
              "Streeter Dr & Grand Ave    Streeter Dr & Grand Ave      172\n",
              "Lake Shore Dr & Monroe St  Lake Shore Dr & Monroe St    165\n",
              "dtype: int64"
            ]
          },
          "metadata": {},
          "execution_count": 176
        }
      ]
    },
    {
      "cell_type": "code",
      "source": [
        "# Task 14: Get the three most popular trip routes, in terms of Start Station and End Station\n",
        "# Get the three most common start and end stations\n",
        "pop_routes = d.groupby(['Start Station', 'End Station']).size().reset_index(name='Count').nlargest(3, 'Count')\n",
        "# Print the top routes\n",
        "print(pop_routes)\n",
        "\n",
        "# Task 14-3: Display the countplot of the three most popular trip routes more often for  each of the genders \n",
        "# top 3 most popular trip routes\n",
        "pop3_routes = d.groupby(['Start Station', 'End Station']).size().reset_index(name ='Count').nlargest(3, 'Count')\n",
        "# filtering unknown genders\n",
        "gender = top3.loc[top3['Gender'] != 'Unknown']\n",
        "# plotting the countplot\n",
        "sns.countplot(x='Start Station', hue='Gender', data=gender)\n",
        "\n"
      ],
      "metadata": {
        "id": "Eumu2wBF3Z0h",
        "colab": {
          "base_uri": "https://localhost:8080/",
          "height": 364
        },
        "outputId": "58df4215-1be0-4a75-8fa7-698066c41b90"
      },
      "execution_count": 177,
      "outputs": [
        {
          "output_type": "stream",
          "name": "stdout",
          "text": [
            "                   Start Station                End Station  Count\n",
            "51669  Lake Shore Dr & Monroe St    Streeter Dr & Grand Ave    255\n",
            "70942    Streeter Dr & Grand Ave    Streeter Dr & Grand Ave    172\n",
            "51625  Lake Shore Dr & Monroe St  Lake Shore Dr & Monroe St    165\n"
          ]
        },
        {
          "output_type": "execute_result",
          "data": {
            "text/plain": [
              "<Axes: xlabel='Start Station', ylabel='count'>"
            ]
          },
          "metadata": {},
          "execution_count": 177
        },
        {
          "output_type": "display_data",
          "data": {
            "text/plain": [
              "<Figure size 432x288 with 1 Axes>"
            ],
            "image/png": "[encoded data removed]"
          },
          "metadata": {
            "needs_background": "light"
          }
        }
      ]
    }
  ]
}